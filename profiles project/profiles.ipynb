{
  "nbformat": 4,
  "nbformat_minor": 0,
  "metadata": {
    "colab": {
      "name": "Untitled3.ipynb",
      "provenance": []
    },
    "kernelspec": {
      "name": "python3",
      "display_name": "Python 3"
    }
  },
  "cells": [
    {
      "cell_type": "code",
      "metadata": {
        "id": "viFk6iUOQTDP",
        "colab_type": "code",
        "colab": {
          "base_uri": "https://localhost:8080/",
          "height": 136
        },
        "outputId": "d0042f57-7d1a-45bb-9492-0ca8a01eb3ac"
      },
      "source": [
        "names = str(input('Input name: '))\n",
        "adres = str(input('Input Address: '))\n",
        "date_birth = str(input('Input D.O.B: '))\n",
        "\n",
        "#define profile\n",
        "def profiles():\n",
        "  print('My name is {}, I live in {},  I was born on {}.'.format(names,adres,date_birth))\n",
        "\n",
        "#def main to execute functiom above\n",
        "def main():\n",
        "  print('\\n')\n",
        "  print('profile below')\n",
        "  profiles()\n",
        "\n",
        "#execute main function\n",
        "if __name__ == '__main__':\n",
        "    main()"
      ],
      "execution_count": 21,
      "outputs": [
        {
          "output_type": "stream",
          "text": [
            "Input name: Irham\n",
            "Input Address: los Angeles\n",
            "Input D.O.B: 23 september\n",
            "\n",
            "\n",
            "profile below\n",
            "My name is Irham, I live in los Angeles,  I was born on 23 september\n"
          ],
          "name": "stdout"
        }
      ]
    },
    {
      "cell_type": "code",
      "metadata": {
        "id": "qe3SBCzmYSMB",
        "colab_type": "code",
        "colab": {}
      },
      "source": [
        ""
      ],
      "execution_count": 0,
      "outputs": []
    }
  ]
}